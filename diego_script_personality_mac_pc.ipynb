{
 "cells": [
  {
   "cell_type": "markdown",
   "metadata": {},
   "source": [
    "## Import Libraries"
   ]
  },
  {
   "cell_type": "code",
   "execution_count": null,
   "metadata": {},
   "outputs": [],
   "source": [
    "########################################\n",
    "# importing packages\n",
    "########################################\n",
    "import pandas            as pd                          # data science essentials\n",
    "import matplotlib.pyplot as plt                         # fundamental data visualization\n",
    "import seaborn           as sns                         # enhanced visualizations\n",
    "from sklearn.preprocessing import StandardScaler        # standard scaler\n",
    "from sklearn.decomposition import PCA                   # pca\n",
    "from scipy.cluster.hierarchy import dendrogram, linkage # dendrograms\n",
    "from sklearn.cluster         import KMeans              # k-means clustering\n",
    "\n",
    "sns.set()"
   ]
  },
  {
   "cell_type": "markdown",
   "metadata": {
    "heading_collapsed": true
   },
   "source": [
    "## Helper Functions"
   ]
  },
  {
   "cell_type": "code",
   "execution_count": null,
   "metadata": {
    "hidden": true
   },
   "outputs": [],
   "source": [
    "def columnNamer(cols, isBigFive, isHultDna):\n",
    "    '''\n",
    "    This function renames columns depending if they are from the big 5 or \n",
    "    from Hult DNA. The format of the columns is <B5 or DNA>_Q<n>__<NAME_OF_COLUMN>.\n",
    "    \n",
    "    ----------------------\n",
    "    Params\n",
    "    ----------------------\n",
    "    \n",
    "    cols: Column name list.\n",
    "    isBigFive: Boolean. If True, function will assume that all the columns are from the big five. \n",
    "    isHuldDNA: Boolean. If True, function will assume that all the columns are from the hult dna.\n",
    "    \n",
    "    '''\n",
    "    \n",
    "\n",
    "    cols = cols.str.lower()\n",
    "    cols = cols.str.replace(' ', '_') # Fill spaces with underscore \n",
    "    cols = cols.str.replace(\"'\", '') # Remove quotes from questions\n",
    "\n",
    "\n",
    "    if isBigFive == True:\n",
    "        _cols =  []\n",
    "        \n",
    "        for i in range(len(cols)):\n",
    "#             _cols.append(f'B5_Q{i+1}__{cols[i]}')\n",
    "            _cols.append(f'B5__{cols[i]}')\n",
    "        return _cols\n",
    "\n",
    "    elif isHultDna == True: \n",
    "\n",
    "        _cols =  []\n",
    "\n",
    "        for i in range(len(cols)):\n",
    "            _cols.append(f'DNA_Q{i+1}__{cols[i]}')\n",
    "        return _cols \n",
    "\n",
    "    else:\n",
    "        print('Call Manwe, Morgoth introduced a bug in this function')\n",
    "        \n",
    "        \n",
    "def inertia_plot(data, max_clust = 50):\n",
    "    \"\"\"\n",
    "PARAMETERS\n",
    "----------\n",
    "data      : DataFrame, data from which to build clusters. Dataset should be scaled\n",
    "max_clust : int, maximum of range for how many clusters to check interia, default 50\n",
    "    \"\"\"\n",
    "\n",
    "    ks = range(1, max_clust)\n",
    "    inertias = []\n",
    "\n",
    "\n",
    "    for k in ks:\n",
    "        # INSTANTIATING a kmeans object\n",
    "        model = KMeans(n_clusters = k)\n",
    "\n",
    "\n",
    "        # FITTING to the data\n",
    "        model.fit(data)\n",
    "\n",
    "\n",
    "        # append each inertia to the list of inertias\n",
    "        inertias.append(model.inertia_)\n",
    "\n",
    "\n",
    "\n",
    "    # plotting ks vs inertias\n",
    "    fig, ax = plt.subplots(figsize = (12, 8))\n",
    "    plt.plot(ks, inertias, '-o')\n",
    "\n",
    "\n",
    "    # labeling and displaying the plot\n",
    "    plt.xlabel('number of clusters, k')\n",
    "    plt.ylabel('inertia')\n",
    "    plt.xticks(ks)\n",
    "    plt.show()\n",
    "\n",
    "\n",
    "########################################\n",
    "# scree_plot\n",
    "########################################\n",
    "def scree_plot(pca_object, export = False):\n",
    "    # building a scree plot\n",
    "\n",
    "    # setting plot size\n",
    "    fig, ax = plt.subplots(figsize=(10, 8))\n",
    "    features = range(pca_object.n_components_)\n",
    "\n",
    "\n",
    "    # developing a scree plot\n",
    "    plt.plot(features,\n",
    "             pca_object.explained_variance_ratio_,\n",
    "             linewidth = 2,\n",
    "             marker = 'o',\n",
    "             markersize = 10,\n",
    "             markeredgecolor = 'black',\n",
    "             markerfacecolor = 'grey')\n",
    "\n",
    "\n",
    "    # setting more plot options\n",
    "    plt.title('Scree Plot')\n",
    "    plt.xlabel('PCA feature')\n",
    "    plt.ylabel('Explained Variance')\n",
    "    plt.xticks(features)\n",
    "\n",
    "    if export == True:\n",
    "    \n",
    "        # exporting the plot\n",
    "        plt.savefig('top_customers_correlation_scree_plot.png')\n",
    "        \n",
    "    # displaying the plot\n",
    "    plt.show()"
   ]
  },
  {
   "cell_type": "markdown",
   "metadata": {
    "heading_collapsed": true
   },
   "source": [
    "## Domain Knowledge Research\n"
   ]
  },
  {
   "cell_type": "markdown",
   "metadata": {
    "hidden": true
   },
   "source": [
    "### Nemid & Pastva (2013)\n",
    "\n",
    " - Big Five personality traits did not differentiate between Mac and PC owners. Students overall rated Macs higher on various product attributes (attractive style, cool, youthful, and exciting) and PCs higher on reasonable price and good for gaming.\n",
    " \n",
    " - PC owners placed greater importance on cost as a determinant of brand choice, whereas Mac owners placed greater emphasis on style. \n",
    " \n",
    " - Personality traits may have more nuanced effects on brand choices, as shown by relationships between Neuroticism and greater importance placed on cost and lesser importance placed on ease of use. \n",
    "     - **Personality Traits are more important in the brand choice!**\n",
    "     - More neuroticism, more importance in cost and less importance in ease of use\n",
    "     \n",
    "- Openness to Experience was associated with greater importance placed on reliability and lesser importance placed on style.\n",
    "    - **More openness to experience, more importance in reliability and less importance in style**\n",
    "    \n",
    "    \n",
    "https://www.researchgate.net/publication/259540094_I'm_a_Mac_versus_I'm_a_PC_Personality_Differences_between_Mac_and_PC_Users_in_a_College_Sample\n",
    "\n",
    "<br> \n",
    "\n",
    "___________\n",
    "\n",
    "<br>\n",
    "\n",
    "### PC World\n",
    "\n",
    "<br>\n",
    "\n",
    "\n",
    "- People who purchase Macs fall into what the branding company calls the \"Openness 5\" personality category -- which means they are more liberal, less modest and more assured of their own superiority than the population at large.\n",
    "-  People from Openness 5 seek rich, varied and novel experiences, according to the company, and believe that imagination and intellectual curiosity are as important to life as more rational or pragmatic endeavors.\n",
    "    - Hypothesis: Mac users will have more opennes to new adventures. "
   ]
  },
  {
   "cell_type": "markdown",
   "metadata": {},
   "source": [
    "## Data Exploration"
   ]
  },
  {
   "cell_type": "markdown",
   "metadata": {},
   "source": [
    "### General Data Set Exploration\n",
    "\n",
    "- 1 missing value in ethnicity\n",
    "- 1 participant said MAC instead of Macbook"
   ]
  },
  {
   "cell_type": "code",
   "execution_count": null,
   "metadata": {},
   "outputs": [],
   "source": [
    "# Read Data\n",
    "my_df = pd.read_excel('Survey_Data_Final_Exam.xlsx')\n",
    "\n",
    "my_df.loc[:,'What laptop do you currently have?'].value_counts()"
   ]
  },
  {
   "cell_type": "markdown",
   "metadata": {},
   "source": [
    "### Dividing Columns Big5 vs Hult DNA"
   ]
  },
  {
   "cell_type": "markdown",
   "metadata": {},
   "source": [
    "#### Changing Column Names"
   ]
  },
  {
   "cell_type": "code",
   "execution_count": null,
   "metadata": {},
   "outputs": [],
   "source": [
    "# Renaming Demographic Data\n",
    "\n",
    "# Creating a dictionary\n",
    "columns_to_change = dict(zip([\n",
    "        'What laptop do you currently have?',\n",
    "        'What laptop would you buy in next assuming if all laptops cost the same?',\n",
    "        'What program are you in?', \n",
    "        'What is your age?', \n",
    "        'Gender',\n",
    "        'What is your nationality? ', \n",
    "        'What is your ethnicity?'], \n",
    "        \n",
    "    ['Current laptop', \n",
    "        'Next laptop', \n",
    "        'Program', \n",
    "        'Age', \n",
    "        'Gender',\n",
    "        'Nationality', \n",
    "        'Ethnicity'\n",
    "    ]\n",
    "))\n",
    "\n",
    "my_df.rename(columns_to_change,\n",
    "                   axis='columns',inplace=True)\n",
    "\n",
    "# Renaming Big 5 Data \n",
    "# Separated Big 5 Data set\n",
    "big_five = my_df.iloc[:, 1:51]  # Subset big five-related columns\n",
    "\n",
    "# Change Column Names\n",
    "big_five.columns = columnNamer(big_five.columns,\n",
    "                               isBigFive=True,\n",
    "                               isHultDna=False)\n",
    "\n",
    "\n",
    "# Creating demographic Variables \n",
    "\n",
    "demographics = my_df.loc[:,  ['Current laptop', \n",
    "        'Next laptop', \n",
    "        'Program', \n",
    "        'Age', \n",
    "        'Gender',\n",
    "        'Nationality', \n",
    "        'Ethnicity'\n",
    "    ]]"
   ]
  },
  {
   "cell_type": "markdown",
   "metadata": {},
   "source": [
    "### Grouping Age by Age-Cohorts"
   ]
  },
  {
   "cell_type": "code",
   "execution_count": null,
   "metadata": {},
   "outputs": [],
   "source": [
    "placeholder_lst = []\n",
    "\n",
    "for age in my_df['Age']:\n",
    "    \n",
    "    if age <= 20:\n",
    "        age_range = '<20'\n",
    "    \n",
    "    elif age > 20 and age <= 25:\n",
    "        age_range = '20-25'\n",
    "    \n",
    "    elif age > 25 and age <= 30:\n",
    "        age_range = '26-30'\n",
    "        \n",
    "    elif age > 30 and age <= 35:\n",
    "        age_range = '31-35'\n",
    "    \n",
    "    elif age > 36 and age <= 40:\n",
    "        age_range = '36-40'\n",
    "        \n",
    "    elif age > 40:\n",
    "        age_range = '>40'\n",
    "        \n",
    "    placeholder_lst.append(age_range)\n",
    "    \n",
    "my_df['age_range'] = placeholder_lst"
   ]
  },
  {
   "cell_type": "markdown",
   "metadata": {},
   "source": [
    "### Nationalities Data Cleaning"
   ]
  },
  {
   "cell_type": "markdown",
   "metadata": {},
   "source": [
    "#### Grouping similar Nationalities"
   ]
  },
  {
   "cell_type": "code",
   "execution_count": null,
   "metadata": {},
   "outputs": [],
   "source": [
    "placeholder_lst = []\n",
    "\n",
    "# create a list for nationality change\n",
    "nation_change = [[['china'],'chinese'],\n",
    "                 [['peru'], 'peruvian'],\n",
    "                 [['mexico'], 'mexican'],\n",
    "                 [['usa'], 'american'],\n",
    "                 [['russia'], 'russian'],\n",
    "                 [['ecuador'], 'ecuadorian'],\n",
    "                 [['brazil'], 'brazilian'],\n",
    "                 [['nigeria'], 'nigerian'],\n",
    "                 [['korea','republicofkorea','southkorea'],'korean'],\n",
    "                 [['spain'],'spanish'],\n",
    "                 [['indonesia'],'indonesian'],\n",
    "                 [['germany'],'german'],\n",
    "                 [['colombia'], 'colombian'],\n",
    "                 [['taiwan', 'taiwan(roc)'], 'taiwanese'],\n",
    "                 [['japan'], 'japanese'],\n",
    "                 [['canada'], 'canadian'],\n",
    "                 [['philippines'], 'filipino'],\n",
    "                 [['thailand'], 'thai'],\n",
    "                 [['india'], 'indian'],\n",
    "                 [['czechrepublic'], 'czech'],\n",
    "                 [['belgium'], 'belgian'],\n",
    "                 [['english'], 'british'],\n",
    "                 [['ghana'], 'ghanaian'],\n",
    "                 [['.', 'hispanic'], 'prefernottoanswer'],\n",
    "                 [['italianandspanish', 'german/american', 'french/brazilian', 'british,indian', 'caribbean-american'], 'multi-ethnic'],\n",
    "                 [['costarica'], 'costarrican'],\n",
    "                 [['congolese(drcongo)'], 'congolese'],\n",
    "                 [['venezuela'],'venezuelan'],\n",
    "                 [['dominicanrepublic'],'dominican']\n",
    "                \n",
    "                ]\n",
    "\n",
    "# create a for loop\n",
    "for nationality in my_df['Nationality']:\n",
    "    \n",
    "    # remove \" \" and \".\"\n",
    "    nationality = nationality.lower().replace(\" \",\"\").replace(\".\",\"\")\n",
    "    \n",
    "    # create a loop\n",
    "    for old_nat, new_nat in nation_change:\n",
    "    \n",
    "        # create if statement to check if nationality is wrong\n",
    "        if nationality in old_nat:\n",
    "            nationality = new_nat\n",
    "    \n",
    "    # append the correct nationality to a list\n",
    "    placeholder_lst.append(nationality)\n",
    "\n",
    "# create a new column\n",
    "my_df['Nationality2'] = placeholder_lst"
   ]
  },
  {
   "cell_type": "markdown",
   "metadata": {
    "heading_collapsed": true
   },
   "source": [
    "#### Grouping Nationalities by continent"
   ]
  },
  {
   "cell_type": "code",
   "execution_count": null,
   "metadata": {
    "hidden": true
   },
   "outputs": [],
   "source": [
    "# create a placeholder list\n",
    "placeholder_lst = []\n",
    "\n",
    "# create a for loop\n",
    "for nationality in my_df['Nationality2']:\n",
    "    \n",
    "    # check if nationality is in Asia\n",
    "    if nationality in ['indian','chinese','taiwanese','filipino','korean',\n",
    "                       'thai','indonesian','vietnamese','japanese','palestinian',\n",
    "                       'kyrgyz','pakistani','bangladeshi','iran','malaysia']:\n",
    "        nationality = 'Asian'\n",
    "    \n",
    "    # check if nationality is in Europe\n",
    "    elif nationality in ['german','russian','italian','spanish','norwegian',\n",
    "                         'turkish','belgian','czech','british','swiss',\n",
    "                         'ukrainian','portuguese','belarus','dutch','poland',\n",
    "                         'armenia','dutch']:\n",
    "        nationality = 'European'\n",
    "    \n",
    "    # check if nationality is in North America\n",
    "    elif nationality in ['mexican','american','canadian','dominican','costarrican',\n",
    "                         'panama','guatemalan','elsalvador','honduran']:\n",
    "        nationality = 'North American'\n",
    "    \n",
    "    # check if nationality is in South America\n",
    "    elif nationality in ['peruvian','colombian','brazilian','ecuadorian',\n",
    "                         'venezuelan']:\n",
    "        nationality = 'South American'\n",
    "    \n",
    "    # check if nationality is in Africa\n",
    "    elif nationality in ['nigerian','kenyan','congolese','ghanaian','ugandan',\n",
    "                         'mauritius','southafrican','cameroon']:\n",
    "        nationality = 'Africa'\n",
    "    \n",
    "    # check if nationality is multi-ethnic\n",
    "    elif nationality == 'multi-ethnic':\n",
    "        nationality = 'multi-ethnic'\n",
    "    \n",
    "    # put 'prefernottoanswer' for the remaining\n",
    "    else: \n",
    "        nationality = 'prefernottoanswer'\n",
    "    \n",
    "    # append the new nationality group to a list\n",
    "    placeholder_lst.append(nationality)\n",
    "\n",
    "# create a new column\n",
    "my_df['Nationality_continent'] = placeholder_lst"
   ]
  },
  {
   "cell_type": "markdown",
   "metadata": {},
   "source": [
    "### Creating factors big5\n",
    "\n",
    "according to this version of the "
   ]
  },
  {
   "cell_type": "markdown",
   "metadata": {
    "heading_collapsed": true
   },
   "source": [
    "#### Fixing Reversed Items "
   ]
  },
  {
   "cell_type": "code",
   "execution_count": null,
   "metadata": {
    "hidden": true
   },
   "outputs": [],
   "source": [
    "#### Factor I (Surgency or Extraversion)\n",
    "\n",
    "fac1_pos = [\n",
    "    \"am the life of the party\",\n",
    "    \"Feel comfortable around people\",\n",
    "    \"Start conversations\", \n",
    "    \"Talk to a lot of different people at parties\",\n",
    "    \"Don't mind being the center of attention\"\n",
    "    ]\n",
    "\n",
    "fac1_neg = [ \n",
    "    \"Don't talk a lot\", \n",
    "    \"Keep in the background\", \n",
    "    \"Have little to say\",\n",
    "    \"Don't like to draw attention to myself\", \n",
    "    \"Am quiet around strangers\"\n",
    "]\n",
    "\n",
    "## Factor II (Agreeableness)\n",
    "\n",
    "fac2_pos = [\n",
    "    \"Am interested in people\", \n",
    "    \"Sympathize with others' feelings\",\n",
    "    \"Have a soft heart\", \n",
    "    \"Take time out for others\", \n",
    "    \"Feel others' emotions\",\n",
    "    \"Make people feel at ease\"\n",
    "    ]\n",
    "\n",
    "fac2_neg = [\n",
    "    \"Am not really interested in others\", \n",
    "    \"Insult people\",\n",
    "    \"Am not interested in other people's problems\",\n",
    "    \"Feel little concern for others\"\n",
    "]\n",
    "\n",
    "\n",
    "## Factor III (Conscientiousness)\n",
    "\n",
    "fac3_pos = [\n",
    "    \"Am always prepared\", \n",
    "    \"Pay attention to details\",\n",
    "    \"Get chores done right away\",\n",
    "    \"Like order\", \n",
    "    \"Follow a schedule\",\n",
    "    \"Am exacting in my work\"\n",
    "]\n",
    "\n",
    "fac3_neg = [\n",
    "    \"Leave my belongings around\", \n",
    "    \"Make a mess of things\",\n",
    "    \"Often forget to put things back in their proper place\",\n",
    "    \"Shirk my duties\"\n",
    "]\n",
    "\n",
    "##Factor IV (Emotional Stability)\n",
    "\n",
    "fac4_pos = [\n",
    "            \"Am relaxed most of the time\", \n",
    "            \"Seldom feel blue\"\n",
    "]\n",
    "\n",
    "fac4_neg = [\n",
    "    \"Get stressed out easily\",\n",
    "    \"Worry about things\", \n",
    "    \"Am easily disturbed\",\n",
    "    \"Get upset easily\",\n",
    "    \"Change my mood a lot\", \n",
    "    \"Have frequent mood swings\",\n",
    "    \"Get irritated easily\",\n",
    "    \"Often feel blue\"\n",
    "]\n",
    "\n",
    "## Factor V (Intellect or Imagination)\n",
    "\n",
    "fac5_pos = [\n",
    "    \"Have a rich vocabulary\",\n",
    "    \"Have a vivid imagination\",\n",
    "    \"Have excellent ideas\", \n",
    "    \"Am quick to understand things\",\n",
    "    \"Use difficult words\", \n",
    "    \"Spend time reflecting on things\",\n",
    "    \"Am full of ideas\"\n",
    "]\n",
    "\n",
    "fac5_neg = [\n",
    "    \"Have difficulty understanding abstract ideas\",\n",
    "    \"Am not interested in abstract ideas\",\n",
    "    \"Do not have a good imagination\"\n",
    "]\n",
    "\n",
    "\n",
    "fac_all_neg = fac1_neg + fac2_neg + fac3_neg + fac4_neg + fac5_neg\n",
    "\n",
    "fac_all_neg_cols = columnNamer(pd.Series(fac_all_neg), isBigFive=True, isHultDna=False)\n",
    "\n",
    "\n",
    "## \n",
    "big_five.loc[:,fac_all_neg_cols].replace(5,1, inplace= True)\n",
    "big_five.loc[:, fac_all_neg_cols].replace(4,2, inplace= True)"
   ]
  },
  {
   "cell_type": "markdown",
   "metadata": {},
   "source": [
    "#### Creating Factors based on Original Study"
   ]
  },
  {
   "cell_type": "code",
   "execution_count": null,
   "metadata": {},
   "outputs": [],
   "source": [
    "\n",
    "\n",
    "fac1_all = fac1_pos + fac2_neg\n",
    "fac2_all = fac2_pos + fac2_neg\n",
    "fac3_all = fac3_pos + fac3_neg\n",
    "fac4_all = fac4_pos + fac4_neg\n",
    "fac5_all = fac4_pos + fac5_neg\n",
    "\n",
    "big_five_final = pd.DataFrame(\n",
    "\n",
    "{\n",
    "    'extraversion':big_five[columnNamer(pd.Series(fac1_all), isBigFive=True, isHultDna=False)].sum(axis = 1),\n",
    "\n",
    "    'agreeableness':big_five[columnNamer(pd.Series(fac2_all), isBigFive=True, isHultDna=False)].sum(axis = 1),\n",
    "\n",
    "    'conscientiousness':big_five[columnNamer(pd.Series(fac3_all), isBigFive=True, isHultDna=False)].sum(axis = 1),\n",
    "    \n",
    "    'emotional_stability':big_five[columnNamer(pd.Series(fac4_all), isBigFive=True, isHultDna=False)].sum(axis = 1),\n",
    "\n",
    "    'intellect':big_five[columnNamer(pd.Series(fac5_all), isBigFive=True, isHultDna=False)].sum(axis = 1)\n",
    "\n",
    "})\n"
   ]
  },
  {
   "cell_type": "markdown",
   "metadata": {},
   "source": [
    "## Modelling\n"
   ]
  },
  {
   "cell_type": "markdown",
   "metadata": {},
   "source": [
    "### Clustering Big 5\n",
    "\n",
    "The team has decided to proceed directly with KMeans clustering. Our reasoning is based on the fact that Goldberg's Big Five instrument used PCA to be developed (Exploratory Factor Analysis). Thus, we grouped the items according to the original author of the instrument and decided to cluster users by the originally traits of personality that were defined in Goldberg (1992).\n",
    "\n",
    "<br> \n",
    "\n",
    "- https://ipip.ori.org/newBigFive5broadKey.htm#Conscientiousness\n",
    "- https://ipip.ori.org/newBigFive5broadTable.htm\n",
    "\n",
    "** INCLUDE APA CITATION HERE!!! GOLDBERG 1992**\n",
    "\n"
   ]
  },
  {
   "cell_type": "markdown",
   "metadata": {},
   "source": [
    "### Scaling - StandardScaler"
   ]
  },
  {
   "cell_type": "code",
   "execution_count": null,
   "metadata": {},
   "outputs": [],
   "source": [
    "st_scaler = StandardScaler()\n",
    "\n",
    "big_five_scaled = st_scaler.fit_transform(big_five_final)\n"
   ]
  },
  {
   "cell_type": "markdown",
   "metadata": {},
   "source": [
    "### Cluster Selection\n",
    "\n",
    "The team has chosen 2 clusters because is dividing the datapoints in a better manner. INSERT INERTIA INTERPRETATION HERE. "
   ]
  },
  {
   "cell_type": "code",
   "execution_count": null,
   "metadata": {},
   "outputs": [],
   "source": [
    "inertia_plot(big_five_scaled,max_clust=10)"
   ]
  },
  {
   "cell_type": "markdown",
   "metadata": {},
   "source": [
    "### Creating Clustering"
   ]
  },
  {
   "cell_type": "code",
   "execution_count": null,
   "metadata": {},
   "outputs": [],
   "source": [
    "\n",
    "k_means_big5 = KMeans(n_clusters=2,\n",
    "                        random_state = 802)\n",
    "\n",
    "\n",
    "# Fitting KMeans\n",
    "k_means_big5_fit = k_means_big5.fit(big_five_scaled)\n",
    "\n",
    "# Creating Clusters Labels\n",
    "k_means_big5_clusters = pd.DataFrame({'Cluster':k_means_big5_fit.labels_})\n",
    "\n",
    "# Checking if people are grouped in the clusters\n",
    "k_means_big5_clusters.iloc[:,0].value_counts() # Both clusters are balanced "
   ]
  },
  {
   "cell_type": "code",
   "execution_count": null,
   "metadata": {
    "scrolled": true
   },
   "outputs": [],
   "source": [
    "\n",
    "# storing cluster centers\n",
    "centroids_big5 = k_means_big5_fit.cluster_centers_\n",
    "\n",
    "\n",
    "# converting cluster centers into a DataFrame\n",
    "centroids_big5_df = pd.DataFrame(centroids_big5)\n",
    "\n",
    "\n",
    "# renaming principal components\n",
    "centroids_big5_df.columns = big_five_final.columns\n",
    "\n",
    "centroids_big5_df\n",
    "\n"
   ]
  },
  {
   "cell_type": "code",
   "execution_count": null,
   "metadata": {},
   "outputs": [],
   "source": [
    "\n",
    "big_five_scaled_df = pd.DataFrame(big_five_scaled, \n",
    "                                  columns = ['extraversion',\n",
    "                                             'agreeableness',\n",
    "                                             'conscientiousness',\n",
    "                                             'emotional_stability',\n",
    "                                             'intellect'])\n",
    "\n",
    "# creating Big5 merged dataframe with demographics\n",
    "\n",
    "data_df = pd.concat([k_means_big5_clusters, demographics,big_five_scaled_df], axis = 1)"
   ]
  },
  {
   "cell_type": "markdown",
   "metadata": {},
   "source": [
    "### Analysis of Demographics by Big Five"
   ]
  },
  {
   "cell_type": "code",
   "execution_count": null,
   "metadata": {},
   "outputs": [],
   "source": [
    "########################\n",
    "# Current laptop\n",
    "########################\n",
    "\n",
    "# Balanced\n",
    "fig, ax = plt.subplots(figsize = (12, 8))\n",
    "sns.boxplot(x = 'Current laptop',\n",
    "            y = 'agreeableness',\n",
    "            hue = 'Cluster',\n",
    "            data = data_df )\n",
    "\n",
    "\n",
    "plt.tight_layout()\n",
    "plt.show()\n"
   ]
  }
 ],
 "metadata": {
  "kernelspec": {
   "display_name": "Python 3",
   "language": "python",
   "name": "python3"
  },
  "language_info": {
   "codemirror_mode": {
    "name": "ipython",
    "version": 3
   },
   "file_extension": ".py",
   "mimetype": "text/x-python",
   "name": "python",
   "nbconvert_exporter": "python",
   "pygments_lexer": "ipython3",
   "version": "3.7.3"
  },
  "toc": {
   "base_numbering": 1,
   "nav_menu": {},
   "number_sections": true,
   "sideBar": false,
   "skip_h1_title": false,
   "title_cell": "Table of Contents",
   "title_sidebar": "Contents",
   "toc_cell": false,
   "toc_position": {
    "height": "534.446px",
    "left": "1342.98px",
    "top": "51.6051px",
    "width": "349.091px"
   },
   "toc_section_display": true,
   "toc_window_display": true
  },
  "varInspector": {
   "cols": {
    "lenName": 16,
    "lenType": 16,
    "lenVar": 40
   },
   "kernels_config": {
    "python": {
     "delete_cmd_postfix": "",
     "delete_cmd_prefix": "del ",
     "library": "var_list.py",
     "varRefreshCmd": "print(var_dic_list())"
    },
    "r": {
     "delete_cmd_postfix": ") ",
     "delete_cmd_prefix": "rm(",
     "library": "var_list.r",
     "varRefreshCmd": "cat(var_dic_list()) "
    }
   },
   "types_to_exclude": [
    "module",
    "function",
    "builtin_function_or_method",
    "instance",
    "_Feature"
   ],
   "window_display": false
  }
 },
 "nbformat": 4,
 "nbformat_minor": 2
}
